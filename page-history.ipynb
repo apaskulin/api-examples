{
 "cells": [
  {
   "cell_type": "markdown",
   "metadata": {},
   "source": [
    "# Exploring page history"
   ]
  },
  {
   "cell_type": "markdown",
   "metadata": {},
   "source": [
    "Let's explore Wikipedia page history."
   ]
  },
  {
   "cell_type": "code",
   "execution_count": 5,
   "metadata": {},
   "outputs": [
    {
     "name": "stdout",
     "output_type": "stream",
     "text": [
      "Endpoint: https://en.wikipedia.org/w/rest.php/v1/page/Agapanthus/history\n",
      "\n",
      "Latest revisions:\n",
      "2019-09-18T12:37:37Z 916345891 43\n",
      "2019-09-11T02:17:14Z 915073907 -2\n",
      "2019-08-09T09:15:08Z 910045778 -8\n",
      "2019-07-15T15:05:47Z 906391967 -33\n",
      "2019-07-15T02:23:42Z 906315318 33\n",
      "2019-07-12T02:10:35Z 905878677 31\n",
      "2019-05-08T08:15:32Z 896094138 71\n",
      "2019-02-20T05:05:22Z 884205793 9\n",
      "2019-01-29T05:16:31Z 880741028 -17\n",
      "2018-10-23T12:11:36Z 865354227 18\n",
      "2018-10-04T08:59:21Z 862426460 176\n",
      "2018-07-24T07:44:07Z 851733941 523\n",
      "2018-06-23T11:57:05Z 847170467 10\n",
      "2018-05-15T15:15:19Z 841389263 12\n",
      "2018-02-17T03:22:09Z 826086995 14\n",
      "2018-02-15T08:25:11Z 825767252 23\n",
      "2018-02-15T07:40:47Z 825763872 -27\n",
      "2018-01-13T22:05:53Z 820249697 1\n",
      "2017-07-13T23:35:03Z 790471460 65\n",
      "2017-05-24T21:47:07Z 782092200 24\n"
     ]
    }
   ],
   "source": [
    "import requests\n",
    "\n",
    "url = 'https://en.wikipedia.org/w/rest.php/v1/page/Agapanthus/history'\n",
    "headers = {\n",
    "    'User-Agent': 'MediaWiki REST API docs examples/0.1 (https://meta.wikimedia.org/wiki/User:APaskulin_(WMF))'\n",
    "}\n",
    "response = requests.get(url, headers=headers)\n",
    "print('Endpoint:', url)\n",
    "\n",
    "import json\n",
    "\n",
    "response = json.loads(response.text)\n",
    "print('\\nLatest revisions:')\n",
    "for revision in response['revisions']:\n",
    "    print(revision['timestamp'], revision['id'], revision['delta'])"
   ]
  },
  {
   "cell_type": "markdown",
   "metadata": {},
   "source": [
    "We can see that the response gives us the URL to fetch the next oldest set of revisions."
   ]
  },
  {
   "cell_type": "code",
   "execution_count": 2,
   "metadata": {
    "scrolled": true
   },
   "outputs": [
    {
     "name": "stdout",
     "output_type": "stream",
     "text": [
      "\n",
      "Fetch older revisions:\n",
      "https://en.wikipedia.org/w/rest.php/v1/page/Agapanthus/history?older_than=782092200\n"
     ]
    }
   ],
   "source": [
    "print('\\nFetch older revisions:')\n",
    "print(response['older'])"
   ]
  },
  {
   "cell_type": "markdown",
   "metadata": {},
   "source": [
    "We can use that URL in our request."
   ]
  },
  {
   "cell_type": "code",
   "execution_count": 3,
   "metadata": {},
   "outputs": [
    {
     "name": "stdout",
     "output_type": "stream",
     "text": [
      "TESTESThttps://en.wikipedia.org/w/rest.php/v1/page/Agapanthus/history?older_than=782092200\n",
      "\n",
      "Latest revisions:\n",
      "2017-03-10T22:48:55Z 769666928 17247\n",
      "2017-02-11T09:29:37Z 764856323 17243\n",
      "2017-02-07T08:29:51Z 764138832 17243\n",
      "2017-02-07T08:21:34Z 764138197 17174\n",
      "2017-01-26T05:40:42Z 762025429 16918\n",
      "2017-01-02T14:18:08Z 757923981 16922\n",
      "2017-01-02T13:57:15Z 757921856 16904\n",
      "2017-01-02T13:56:27Z 757921794 16884\n",
      "2017-01-02T10:08:27Z 757896529 16880\n",
      "2017-01-02T09:44:58Z 757894596 16665\n",
      "2016-11-23T15:44:11Z 751131775 16640\n",
      "2016-11-23T08:15:10Z 751086280 16651\n",
      "2016-11-23T08:14:21Z 751086212 16646\n",
      "2016-11-21T10:59:40Z 750707781 16640\n",
      "2016-10-05T10:06:20Z 742716578 16431\n",
      "2016-09-12T22:10:50Z 739122380 16388\n",
      "2016-09-10T10:22:48Z 738665750 16384\n",
      "2016-09-08T12:22:12Z 738349581 16991\n",
      "2016-09-08T04:43:50Z 738310533 16979\n",
      "2016-09-08T04:43:25Z 738310492 17124\n"
     ]
    }
   ],
   "source": [
    "url = response['older']\n",
    "response = requests.get(url, headers=headers)\n",
    "print(url)\n",
    "\n",
    "response = json.loads(response.text)\n",
    "print('\\nLatest revisions:')\n",
    "for revision in response['revisions']:\n",
    "    print(revision['timestamp'], revision['id'], revision['size'])"
   ]
  },
  {
   "cell_type": "code",
   "execution_count": 8,
   "metadata": {},
   "outputs": [
    {
     "name": "stdout",
     "output_type": "stream",
     "text": [
      "{\"from\":{\"id\":847170467,\"slot_role\":\"main\",\"sections\":[{\"level\":2,\"heading\":\"==Description==\",\"offset\":3006},{\"level\":2,\"heading\":\"==Taxonomy==\",\"offset\":4324},{\"level\":3,\"heading\":\"===Family placement===\",\"offset\":4643},{\"level\":3,\"heading\":\"===Species===\",\"offset\":9513},{\"level\":2,\"heading\":\"==Cultivation==\",\"offset\":12089},{\"level\":2,\"heading\":\"==Allergenic potential==\",\"offset\":15634},{\"level\":2,\"heading\":\"==References==\",\"offset\":15985},{\"level\":2,\"heading\":\"==External links==\",\"offset\":16018}]},\"to\":{\"id\":851733941,\"slot_role\":\"main\",\"sections\":[{\"level\":2,\"heading\":\"==Description==\",\"offset\":3006},{\"level\":2,\"heading\":\"==Taxonomy==\",\"offset\":4324},{\"level\":3,\"heading\":\"===Family placement===\",\"offset\":4643},{\"level\":3,\"heading\":\"===Species===\",\"offset\":9513},{\"level\":2,\"heading\":\"==Cultivation==\",\"offset\":12089},{\"level\":2,\"heading\":\"==Allergenic potential==\",\"offset\":16157},{\"level\":2,\"heading\":\"==References==\",\"offset\":16508},{\"level\":2,\"heading\":\"==External links==\",\"offset\":16541}]},\"diff\": [{\"type\": 0, \"lineNumber\": 95, \"text\": \"\", \"offset\": {\"from\": 14692,\"to\": 14692}},{\"type\": 0, \"lineNumber\": 96, \"text\": \"Though ''Neuranethes spodopterodes'' is invasive in the regions where it has emerged as a pest, it is not an exotic invader, but a [[Species translocation|translocated species]], having been imported inadvertently from its natural range in more northerly regions of the country. In its original range the moth is not of horticultural importance, being controlled by natural enemies that as yet have neither been identified nor imported along with the host plants. In contrast the ''Agapanthus'' borer is of considerable concern in the South West, and its voracity is so impressive that the species shows promise as a possible control for invasive ''Agapanthus praecox'' in countries like New Zealand.<ref>M.D. Picker and M. KrÃ¼ger. Spread and Impacts of the Agapanthus Borer (Neuranethes spodopterodes (Hampson, 1908), comb. nov.), a Translocated Native Moth Species (Lepidoptera: Noctuidae). African Entomology 2013 21 (1), 172-176</ref>\", \"offset\": {\"from\": 14693,\"to\": 14693}},{\"type\": 1, \"lineNumber\": 97, \"text\": \"\", \"offset\": {\"from\": null,\"to\": 15633}},{\"type\": 1, \"lineNumber\": 98, \"text\": \"In 2016, a new species of [[Cecidomyiidae|gall midge]], ''[[Enigmadiplosis agapanthi]]'', was described damaging Agapanthus in the [[United Kingdom]].<ref>{{cite journal| last1 =Harris | first1 =KM | last2 =Salisbury |first2=A| last3=Jones |first3=H | title =''Enigmadiplosis agapanthi'', a new genus and species of gall midge (Diptera, Cecidomyiidae) damaging Agapanthus flowers in England. | journal =Cecidology | volume =31 | issue = | pages =17-20 | publisher =British Gall Society | location = | date =2016 }} </ref>\", \"offset\": {\"from\": null,\"to\": 15634}},{\"type\": 0, \"lineNumber\": 99, \"text\": \"\", \"offset\": {\"from\": 15633,\"to\": 16156}},{\"type\": 0, \"lineNumber\": 100, \"text\": \"==Allergenic potential==\", \"offset\": {\"from\": 15634,\"to\": 16157}}]}\n"
     ]
    }
   ],
   "source": [
    "url = 'https://en.wikipedia.org/w/rest.php/v1/revision/847170467/compare/851733941'\n",
    "response = requests.get(url, headers=headers)\n",
    "print(response.text)"
   ]
  },
  {
   "cell_type": "code",
   "execution_count": null,
   "metadata": {},
   "outputs": [],
   "source": []
  }
 ],
 "metadata": {
  "kernelspec": {
   "display_name": "Python 3",
   "language": "python",
   "name": "python3"
  },
  "language_info": {
   "codemirror_mode": {
    "name": "ipython",
    "version": 3
   },
   "file_extension": ".py",
   "mimetype": "text/x-python",
   "name": "python",
   "nbconvert_exporter": "python",
   "pygments_lexer": "ipython3",
   "version": "3.7.3"
  }
 },
 "nbformat": 4,
 "nbformat_minor": 4
}
