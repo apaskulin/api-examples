{
 "cells": [
  {
   "cell_type": "markdown",
   "metadata": {},
   "source": [
    "# Exploring page history"
   ]
  },
  {
   "cell_type": "markdown",
   "metadata": {},
   "source": [
    "Let's explore Wikipedia page history."
   ]
  },
  {
   "cell_type": "code",
   "execution_count": 2,
   "metadata": {},
   "outputs": [
    {
     "name": "stdout",
     "output_type": "stream",
     "text": [
      "{\"revisions\":[{\"id\":916345891,\"timestamp\":\"2019-09-18T12:37:37Z\",\"minor\":false,\"size\":18213,\"comment\":\"Rescuing 1 sources and tagging 0 as dead.) #IABot (v2.0\",\"user\":{\"id\":27015025,\"name\":\"InternetArchiveBot\"},\"delta\":43},{\"id\":915073907,\"timestamp\":\"2019-09-11T02:17:14Z\",\"minor\":true,\"size\":18170,\"comment\":\"/* Cultivation */[[User:Monkbot/task 16: remove replace deprecated dead-url params|Task 16]]: replaced (1×) / removed (0×) deprecated |dead-url= and |deadurl= with |url-status=;\",\"user\":{\"id\":20483999,\"name\":\"Monkbot\"},\"delta\":-2},{\"id\":910045778,\"timestamp\":\"2019-08-09T09:15:08Z\",\"minor\":false,\"size\":18172,\"comment\":\"diacritica. What is scientific Greek ...\",\"user\":{\"id\":24886785,\"name\":\"Wimpus\"},\"delta\":-8},{\"id\":906391967,\"timestamp\":\"2019-07-15T15:05:47Z\",\"minor\":false,\"size\":18180,\"comment\":\"Undid revision 906315318 by [[Special:Contributions/24.5.219.81|24.5.219.81]] ([[User talk:24.5.219.81|talk]]) unsourced\",\"user\":{\"id\":2153309,\"name\":\"Peter coxhead\"},\"delta\":-33},{\"id\":906315318,\"timestamp\":\"2019-07-15T02:23:42Z\",\"minor\":false,\"size\":18213,\"comment\":\"\",\"user\":{\"id\":null,\"name\":\"24.5.219.81\"},\"delta\":33},{\"id\":905878677,\"timestamp\":\"2019-07-12T02:10:35Z\",\"minor\":false,\"size\":18180,\"comment\":\"/* Taxonomy */ID, link\",\"user\":{\"id\":21492,\"name\":\"Wetman\"},\"delta\":31},{\"id\":896094138,\"timestamp\":\"2019-05-08T08:15:32Z\",\"minor\":false,\"size\":18149,\"comment\":\"Rescuing 0 sources and tagging 1 as dead. #IABot (v2.0beta14)\",\"user\":{\"id\":27015025,\"name\":\"InternetArchiveBot\"},\"delta\":71},{\"id\":884205793,\"timestamp\":\"2019-02-20T05:05:22Z\",\"minor\":true,\"size\":18078,\"comment\":\"Alter: year, issue. Formatted [[WP:ENDASH|dashes]]. | You can [[WP:UCB|use this bot]] yourself. [[WP:DBUG|Report bugs here]]. | [[WP:UCB|User-activated]].\",\"user\":{\"id\":7903804,\"name\":\"Citation bot\"},\"delta\":9},{\"id\":880741028,\"timestamp\":\"2019-01-29T05:16:31Z\",\"minor\":false,\"size\":18069,\"comment\":\"taxobox cleanup\",\"user\":{\"id\":14423536,\"name\":\"Plantdrew\"},\"delta\":-17},{\"id\":865354227,\"timestamp\":\"2018-10-23T12:11:36Z\",\"minor\":true,\"size\":18086,\"comment\":\"fixed [[MOS:DASH|dashes]] using a [[User:GregU/dashes.js|script]]\",\"user\":{\"id\":6277327,\"name\":\"Dthomsen8\"},\"delta\":18},{\"id\":862426460,\"timestamp\":\"2018-10-04T08:59:21Z\",\"minor\":false,\"size\":18068,\"comment\":\"Rescuing 1 sources and tagging 0 as dead. #IABot (v2.0beta9)\",\"user\":{\"id\":27015025,\"name\":\"InternetArchiveBot\"},\"delta\":176},{\"id\":851733941,\"timestamp\":\"2018-07-24T07:44:07Z\",\"minor\":false,\"size\":17892,\"comment\":\"/* Cultivation */ agapanthus gall midge\",\"user\":{\"id\":2907231,\"name\":\"M G Tuffen\"},\"delta\":523},{\"id\":847170467,\"timestamp\":\"2018-06-23T11:57:05Z\",\"minor\":false,\"size\":17369,\"comment\":\"\",\"user\":{\"id\":null,\"name\":\"2001:8003:8613:7E00:BCFB:A753:6AEC:E0D7\"},\"delta\":10},{\"id\":841389263,\"timestamp\":\"2018-05-15T15:15:19Z\",\"minor\":false,\"size\":17359,\"comment\":\"[[Wikipedia:Manual of Style#Foreign words]]\",\"user\":{\"id\":33426808,\"name\":\"Citizen Canine\"},\"delta\":12},{\"id\":826086995,\"timestamp\":\"2018-02-17T03:22:09Z\",\"minor\":true,\"size\":17347,\"comment\":\"[[Template talk:Taxonbar#from1|Add from]]=[[d:Special:EntityPage/Q159541|Q159541]] to {{[[Template:Taxonbar|Taxonbar]]}}; [[WP:GenFixes]] on, using [[Project:AWB|AWB]]\",\"user\":{\"id\":9784415,\"name\":\"Tom.Reding\"},\"delta\":14},{\"id\":825767252,\"timestamp\":\"2018-02-15T08:25:11Z\",\"minor\":true,\"size\":17333,\"comment\":\"Sorry, my bad - mistakenly changed the Genus/taxon authority - reverted to previous\",\"user\":{\"id\":29195868,\"name\":\"DonovanKirkwood\"},\"delta\":23},{\"id\":825763872,\"timestamp\":\"2018-02-15T07:40:47Z\",\"minor\":true,\"size\":17310,\"comment\":\"The most widely grown species is Agapanthus praecox. The previous version reference to Agapanthus africanus in the image is incorrect, and info for growing in the US is clearly a mistake as this is very difficult to grow and very rare in cultivation\",\"user\":{\"id\":29195868,\"name\":\"DonovanKirkwood\"},\"delta\":-27},{\"id\":820249697,\"timestamp\":\"2018-01-13T22:05:53Z\",\"minor\":true,\"size\":17337,\"comment\":\"Bot: [[User:KolbertBot|HTTP→HTTPS]] (v481)\",\"user\":{\"id\":31691822,\"name\":\"KolbertBot\"},\"delta\":1},{\"id\":790471460,\"timestamp\":\"2017-07-13T23:35:03Z\",\"minor\":false,\"size\":17336,\"comment\":\"added [[Category:Taxa named by Charles Louis L'Héritier de Brutelle]] using [[WP:HC|HotCat]]\",\"user\":{\"id\":2300266,\"name\":\"Snood1205\"},\"delta\":65},{\"id\":782092200,\"timestamp\":\"2017-05-24T21:47:07Z\",\"minor\":true,\"size\":17271,\"comment\":\"Replace [[Help:Magic links|magic links]] with templates per [[Special:Permalink/772743896#Future of magic links|local RfC]] and [[:mw:Requests for comment/Future of magic links|MediaWiki RfC]]\",\"user\":{\"id\":30707369,\"name\":\"Magic links bot\"},\"delta\":24}],\"latest\":\"https://en.wikipedia.org/w/rest.php/v1/page/Agapanthus/history\",\"older\":\"https://en.wikipedia.org/w/rest.php/v1/page/Agapanthus/history?older_than=782092200\"}\n"
     ]
    }
   ],
   "source": [
    "import requests\n",
    "\n",
    "url = 'https://en.wikipedia.org/w/rest.php/v1/page/Agapanthus/history'\n",
    "headers = {\n",
    "    'User-Agent': 'MediaWiki REST API docs examples/0.1 (https://meta.wikimedia.org/wiki/User:APaskulin_(WMF))'\n",
    "}\n",
    "response = requests.get(url, headers=headers)\n",
    "print(response.text)"
   ]
  },
  {
   "cell_type": "markdown",
   "metadata": {},
   "source": [
    "We can see that the response gives us the URL to fetch the next oldest set of revisions."
   ]
  },
  {
   "cell_type": "code",
   "execution_count": 3,
   "metadata": {},
   "outputs": [
    {
     "name": "stdout",
     "output_type": "stream",
     "text": [
      "https://en.wikipedia.org/w/rest.php/v1/page/Agapanthus/history?older_than=782092200\n"
     ]
    }
   ],
   "source": [
    "import json\n",
    "response_json = json.loads(response.text)\n",
    "print(response_json['older'])"
   ]
  },
  {
   "cell_type": "markdown",
   "metadata": {},
   "source": [
    "We can use that URL in our request."
   ]
  },
  {
   "cell_type": "code",
   "execution_count": 4,
   "metadata": {},
   "outputs": [
    {
     "name": "stdout",
     "output_type": "stream",
     "text": [
      "{\"revisions\":[{\"id\":769666928,\"timestamp\":\"2017-03-10T22:48:55Z\",\"minor\":false,\"size\":17247,\"comment\":\"[[Anthony Huxley]]\",\"user\":{\"id\":1739907,\"name\":\"DuncanHill\"},\"delta\":4},{\"id\":764856323,\"timestamp\":\"2017-02-11T09:29:37Z\",\"minor\":false,\"size\":17243,\"comment\":\"/* Description */ Spelling/grammar correction\",\"user\":{\"id\":5202324,\"name\":\"Mild Bill Hiccup\"},\"delta\":0},{\"id\":764138832,\"timestamp\":\"2017-02-07T08:29:51Z\",\"minor\":true,\"size\":17243,\"comment\":\"Journal cites, Added 2 dois to journal cites using [[Project:AWB|AWB]] (12142)\",\"user\":{\"id\":203434,\"name\":\"Rjwilmsi\"},\"delta\":69},{\"id\":764138197,\"timestamp\":\"2017-02-07T08:21:34Z\",\"minor\":true,\"size\":17174,\"comment\":\"Journal cites, added 1 PMID, templated 2 journal cites using [[Project:AWB|AWB]] (12142)\",\"user\":{\"id\":203434,\"name\":\"Rjwilmsi\"},\"delta\":256},{\"id\":762025429,\"timestamp\":\"2017-01-26T05:40:42Z\",\"minor\":false,\"size\":16918,\"comment\":\"removed redundant redundancy\",\"user\":{\"id\":2705932,\"name\":\"Nwbeeson\"},\"delta\":-4},{\"id\":757923981,\"timestamp\":\"2017-01-02T14:18:08Z\",\"minor\":true,\"size\":16922,\"comment\":\"Dating maintenance tags: {{Citation needed}}\",\"user\":{\"id\":7611264,\"name\":\"AnomieBOT\"},\"delta\":18},{\"id\":757921856,\"timestamp\":\"2017-01-02T13:57:15Z\",\"minor\":false,\"size\":16904,\"comment\":\"/* Description */ Alliaceae â†’ Allioideae; citation needed\",\"user\":{\"id\":2153309,\"name\":\"Peter coxhead\"},\"delta\":20},{\"id\":757921794,\"timestamp\":\"2017-01-02T13:56:27Z\",\"minor\":true,\"size\":16884,\"comment\":\"/* Description */ ref after punctuation; italics\",\"user\":{\"id\":2153309,\"name\":\"Peter coxhead\"},\"delta\":4},{\"id\":757896529,\"timestamp\":\"2017-01-02T10:08:27Z\",\"minor\":false,\"size\":16880,\"comment\":\"\",\"user\":{\"id\":506654,\"name\":\"Pcrooker\"},\"delta\":215},{\"id\":757894596,\"timestamp\":\"2017-01-02T09:44:58Z\",\"minor\":false,\"size\":16665,\"comment\":\"/* Description */ added that there are tubular flowers in the genus\",\"user\":{\"id\":506654,\"name\":\"Pcrooker\"},\"delta\":25},{\"id\":751131775,\"timestamp\":\"2016-11-23T15:44:11Z\",\"minor\":true,\"size\":16640,\"comment\":\"Reverted edits by [[Special:Contribs/91.183.54.73|91.183.54.73]] ([[User talk:91.183.54.73|talk]]) to last version by Pcrooker\",\"user\":{\"id\":2153309,\"name\":\"Peter coxhead\"},\"delta\":-11},{\"id\":751086280,\"timestamp\":\"2016-11-23T08:15:10Z\",\"minor\":false,\"size\":16651,\"comment\":\"\",\"user\":{\"id\":null,\"name\":\"91.183.54.73\"},\"delta\":5},{\"id\":751086212,\"timestamp\":\"2016-11-23T08:14:21Z\",\"minor\":false,\"size\":16646,\"comment\":\"\",\"user\":{\"id\":null,\"name\":\"91.183.54.73\"},\"delta\":6},{\"id\":750707781,\"timestamp\":\"2016-11-21T10:59:40Z\",\"minor\":false,\"size\":16640,\"comment\":\"/* Description */\",\"user\":{\"id\":506654,\"name\":\"Pcrooker\"},\"delta\":209},{\"id\":742716578,\"timestamp\":\"2016-10-05T10:06:20Z\",\"minor\":false,\"size\":16431,\"comment\":\"Rescuing 1 sources and tagging 0 as dead. #IABot (v1.2.4)\",\"user\":{\"id\":27015025,\"name\":\"InternetArchiveBot\"},\"delta\":43},{\"id\":739122380,\"timestamp\":\"2016-09-12T22:10:50Z\",\"minor\":false,\"size\":16388,\"comment\":\"type species authorities\",\"user\":{\"id\":1750837,\"name\":\"Plantsurfer\"},\"delta\":4},{\"id\":738665750,\"timestamp\":\"2016-09-10T10:22:48Z\",\"minor\":false,\"size\":16384,\"comment\":\"removed opinion\",\"user\":{\"id\":18248668,\"name\":\"Razzledazzlerootbeer\"},\"delta\":-607},{\"id\":738349581,\"timestamp\":\"2016-09-08T12:22:12Z\",\"minor\":false,\"size\":16991,\"comment\":\"taxonbar\",\"user\":{\"id\":58781,\"name\":\"JoJan\"},\"delta\":12},{\"id\":738310533,\"timestamp\":\"2016-09-08T04:43:50Z\",\"minor\":false,\"size\":16979,\"comment\":\"/* Allergenic potential */\",\"user\":{\"id\":null,\"name\":\"2602:306:3A29:8A00:F404:D83E:D6D6:468F\"},\"delta\":-145},{\"id\":738310492,\"timestamp\":\"2016-09-08T04:43:25Z\",\"minor\":false,\"size\":17124,\"comment\":\"/* Allergenic potential */\",\"user\":{\"id\":null,\"name\":\"2602:306:3A29:8A00:F404:D83E:D6D6:468F\"},\"delta\":752}],\"latest\":\"https://en.wikipedia.org/w/rest.php/v1/page/Agapanthus/history\",\"older\":\"https://en.wikipedia.org/w/rest.php/v1/page/Agapanthus/history?older_than=738310492\",\"newer\":\"https://en.wikipedia.org/w/rest.php/v1/page/Agapanthus/history?newer_than=769666928\"}\n"
     ]
    }
   ],
   "source": [
    "url = response_json['older']\n",
    "response = requests.get(url, headers=headers)\n",
    "print(response.text)"
   ]
  },
  {
   "cell_type": "code",
   "execution_count": null,
   "metadata": {},
   "outputs": [],
   "source": []
  }
 ],
 "metadata": {
  "kernelspec": {
   "display_name": "Python 3",
   "language": "python",
   "name": "python3"
  },
  "language_info": {
   "codemirror_mode": {
    "name": "ipython",
    "version": 3
   },
   "file_extension": ".py",
   "mimetype": "text/x-python",
   "name": "python",
   "nbconvert_exporter": "python",
   "pygments_lexer": "ipython3",
   "version": "3.7.3"
  }
 },
 "nbformat": 4,
 "nbformat_minor": 4
}
