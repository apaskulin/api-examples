{
 "cells": [
  {
   "cell_type": "markdown",
   "metadata": {},
   "source": [
    "# Wikipedia page stats comparison app"
   ]
  },
  {
   "cell_type": "markdown",
   "metadata": {},
   "source": [
    "Given two Wikipedia pages, Dog and Cat, we can use the page history counts endpoints to fetch and compare stats."
   ]
  },
  {
   "cell_type": "code",
   "execution_count": 1,
   "metadata": {
    "scrolled": true
   },
   "outputs": [
    {
     "data": {
      "text/html": [
       "<h3>Page: Dog</h3><p>Number of editors: 4878</p>"
      ],
      "text/plain": [
       "<IPython.core.display.HTML object>"
      ]
     },
     "metadata": {},
     "output_type": "display_data"
    }
   ],
   "source": [
    "import requests\n",
    "dog_url = 'https://en.wikipedia.org/w/rest.php/v1/page/Dog/history/counts/editors'\n",
    "headers = {\n",
    "    'User-Agent': 'MediaWiki REST API docs examples/0.1 (mw:Talk:Core_Platform_Team/Initiatives/Documentation_Portal)'\n",
    "}\n",
    "response = requests.get(dog_url, headers=headers)\n",
    "\n",
    "import json\n",
    "response = json.loads(response.text)\n",
    "\n",
    "from IPython.core.display import display, HTML\n",
    "display(HTML(f\"<h3>Page: Dog</h3><p>Number of editors: {response['count']}</p>\"))"
   ]
  },
  {
   "cell_type": "markdown",
   "metadata": {},
   "source": [
    "Now let's see the number of editors for the Cat page."
   ]
  },
  {
   "cell_type": "code",
   "execution_count": 2,
   "metadata": {
    "scrolled": true
   },
   "outputs": [
    {
     "data": {
      "text/html": [
       "<h3>Page: Cat</h3><p>Number of editors: 5836</p>"
      ],
      "text/plain": [
       "<IPython.core.display.HTML object>"
      ]
     },
     "metadata": {},
     "output_type": "display_data"
    }
   ],
   "source": [
    "import requests\n",
    "cat_url = 'https://en.wikipedia.org/w/rest.php/v1/page/Cat/history/counts/editors'\n",
    "headers = {\n",
    "    'User-Agent': 'MediaWiki REST API docs examples/0.1 (mw:Talk:Core_Platform_Team/Initiatives/Documentation_Portal)'\n",
    "}\n",
    "response = requests.get(cat_url, headers=headers)\n",
    "\n",
    "import json\n",
    "response = json.loads(response.text)\n",
    "\n",
    "from IPython.core.display import display, HTML\n",
    "display(HTML(f\"<h3>Page: Cat</h3><p>Number of editors: {response['count']}</p>\"))"
   ]
  }
 ],
 "metadata": {
  "kernelspec": {
   "display_name": "Python 3",
   "language": "python",
   "name": "python3"
  },
  "language_info": {
   "codemirror_mode": {
    "name": "ipython",
    "version": 3
   },
   "file_extension": ".py",
   "mimetype": "text/x-python",
   "name": "python",
   "nbconvert_exporter": "python",
   "pygments_lexer": "ipython3",
   "version": "3.7.3"
  }
 },
 "nbformat": 4,
 "nbformat_minor": 4
}
