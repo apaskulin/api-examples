{
 "cells": [
  {
   "cell_type": "markdown",
   "metadata": {},
   "source": [
    "# Wikipedia page stats comparison app"
   ]
  },
  {
   "cell_type": "markdown",
   "metadata": {},
   "source": [
    "Given two Wikipedia pages, Dog and Cat, we can use the page history counts endpoints to fetch and compare stats."
   ]
  },
  {
   "cell_type": "code",
   "execution_count": 1,
   "metadata": {
    "scrolled": true
   },
   "outputs": [
    {
     "name": "stdout",
     "output_type": "stream",
     "text": [
      "Page: Dog\n",
      "\n",
      "Number of editors: 4873\n"
     ]
    }
   ],
   "source": [
    "import requests\n",
    "\n",
    "dog_url = 'https://en.wikipedia.org/w/rest.php/v1/page/Dog/history/counts/editors'\n",
    "headers = {\n",
    "    'User-Agent': 'MediaWiki REST API docs examples/0.1 (mw:Talk:Core_Platform_Team/Initiatives/Documentation_Portal)'\n",
    "}\n",
    "response = requests.get(dog_url, headers=headers)\n",
    "print('Page: Dog')\n",
    "\n",
    "import json\n",
    "\n",
    "response = json.loads(response.text)\n",
    "print('\\nNumber of editors:', response['count'])"
   ]
  },
  {
   "cell_type": "markdown",
   "metadata": {},
   "source": [
    "Now let's see the number of editors for the Cat page."
   ]
  },
  {
   "cell_type": "code",
   "execution_count": 2,
   "metadata": {
    "scrolled": true
   },
   "outputs": [
    {
     "name": "stdout",
     "output_type": "stream",
     "text": [
      "Page: Cat\n",
      "\n",
      "Number of editors: 5832\n"
     ]
    }
   ],
   "source": [
    "import requests\n",
    "\n",
    "cat_url = 'https://en.wikipedia.org/w/rest.php/v1/page/Cat/history/counts/editors'\n",
    "headers = {\n",
    "    'User-Agent': 'MediaWiki REST API docs examples/0.1 (mw:Talk:Core_Platform_Team/Initiatives/Documentation_Portal)'\n",
    "}\n",
    "response = requests.get(cat_url, headers=headers)\n",
    "print('Page: Cat')\n",
    "\n",
    "import json\n",
    "\n",
    "response = json.loads(response.text)\n",
    "print('\\nNumber of editors:', response['count'])"
   ]
  }
 ],
 "metadata": {
  "kernelspec": {
   "display_name": "Python 3",
   "language": "python",
   "name": "python3"
  },
  "language_info": {
   "codemirror_mode": {
    "name": "ipython",
    "version": 3
   },
   "file_extension": ".py",
   "mimetype": "text/x-python",
   "name": "python",
   "nbconvert_exporter": "python",
   "pygments_lexer": "ipython3",
   "version": "3.7.3"
  }
 },
 "nbformat": 4,
 "nbformat_minor": 4
}
